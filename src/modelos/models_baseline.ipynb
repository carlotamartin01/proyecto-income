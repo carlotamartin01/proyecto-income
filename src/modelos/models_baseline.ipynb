{
 "cells": [
  {
   "cell_type": "code",
   "execution_count": 16,
   "id": "341b1139",
   "metadata": {},
   "outputs": [],
   "source": [
    "import pandas as pd\n",
    "import numpy as np\n",
    "import matplotlib.pyplot as plt\n",
    "import seaborn as sns\n",
    "import warnings\n",
    "\n",
    "from sklearn.ensemble import RandomForestClassifier\n",
    "from lightgbm import LGBMClassifier\n",
    "from sklearn.metrics import (\n",
    "    accuracy_score, precision_score, recall_score,\n",
    "    f1_score, confusion_matrix, roc_auc_score, classification_report\n",
    ")\n",
    "from sklearn.model_selection import cross_val_score\n",
    "\n",
    "from sklearn.preprocessing import StandardScaler\n",
    "\n",
    "from sklearn.neural_network import MLPClassifier\n",
    "\n",
    "warnings.filterwarnings('ignore')\n"
   ]
  },
  {
   "cell_type": "code",
   "execution_count": 17,
   "id": "59dcf8e1",
   "metadata": {},
   "outputs": [],
   "source": [
    "########################\n",
    "# carga de los dataset #\n",
    "########################\n",
    "\n",
    "X_train = pd.read_csv(\"../../data/processed/X_train.csv\")\n",
    "X_val = pd.read_csv(\"../../data/processed/X_val.csv\")\n",
    "X_test = pd.read_csv(\"../../data/processed/X_test.csv\")\n",
    "y_train = pd.read_csv(\"../../data/processed/y_train.csv\").squeeze()\n",
    "y_val = pd.read_csv(\"../../data/processed/y_val.csv\").squeeze()\n",
    "y_test = pd.read_csv(\"../../data/processed/y_test.csv\").squeeze()\n"
   ]
  },
  {
   "cell_type": "code",
   "execution_count": 18,
   "id": "11457e01",
   "metadata": {},
   "outputs": [],
   "source": [
    "# Función sencilla para imprimir métricas\n",
    "def evaluar_modelo(nombre, modelo, X, y_true, y_pred, y_prob=None):\n",
    "    print(f\"\\nResultado para {nombre}:\\n\")\n",
    "    print(\"Accuracy:\", accuracy_score(y_true, y_pred))\n",
    "    print(\"Precision:\", precision_score(y_true, y_pred))\n",
    "    print(\"Recall:\", recall_score(y_true, y_pred))\n",
    "    print(\"F1 Score:\", f1_score(y_true, y_pred))\n",
    "    if y_prob is not None:\n",
    "        print(\"ROC-AUC:\", roc_auc_score(y_true, y_prob))\n",
    "    print(\"\\nMatriz de confusión:\\n\", confusion_matrix(y_true, y_pred))\n"
   ]
  },
  {
   "cell_type": "code",
   "execution_count": 19,
   "id": "eb60277f",
   "metadata": {},
   "outputs": [
    {
     "name": "stdout",
     "output_type": "stream",
     "text": [
      "\n",
      "Resultado para Random Forest:\n",
      "\n",
      "Accuracy: 0.8590899774543964\n",
      "Precision: 0.7425542655224634\n",
      "Recall: 0.629708904109589\n",
      "F1 Score: 0.6814917766967802\n",
      "ROC-AUC: 0.9117795680095828\n",
      "\n",
      "Matriz de confusión:\n",
      " [[6912  510]\n",
      " [ 865 1471]]\n"
     ]
    }
   ],
   "source": [
    "###########################\n",
    "# Random Forest: baseline #\n",
    "###########################\n",
    "\n",
    "rf = RandomForestClassifier(random_state=42, n_jobs=-1)\n",
    "\n",
    "rf.fit(X_train, y_train)\n",
    "y_pred_rf = rf.predict(X_val)\n",
    "y_prob_rf = rf.predict_proba(X_val)[:, 1]\n",
    "\n",
    "evaluar_modelo(\"Random Forest\", rf, X_val, y_val, y_pred_rf, y_prob_rf)\n"
   ]
  },
  {
   "cell_type": "code",
   "execution_count": 20,
   "id": "ca1c8647",
   "metadata": {},
   "outputs": [
    {
     "name": "stdout",
     "output_type": "stream",
     "text": [
      "[LightGBM] [Info] Number of positive: 7009, number of negative: 22265\n",
      "[LightGBM] [Info] Auto-choosing row-wise multi-threading, the overhead of testing was 0.002105 seconds.\n",
      "You can set `force_row_wise=true` to remove the overhead.\n",
      "And if memory is not enough, you can set `force_col_wise=true`.\n",
      "[LightGBM] [Info] Total Bins 733\n",
      "[LightGBM] [Info] Number of data points in the train set: 29274, number of used features: 71\n",
      "[LightGBM] [Info] [binary:BoostFromScore]: pavg=0.239427 -> initscore=-1.155821\n",
      "[LightGBM] [Info] Start training from score -1.155821\n",
      "\n",
      "Resultado para LightGBM:\n",
      "\n",
      "Accuracy: 0.8765115802418528\n",
      "Precision: 0.7857503789792825\n",
      "Recall: 0.665667808219178\n",
      "F1 Score: 0.7207415990730012\n",
      "ROC-AUC: 0.9342629384410657\n",
      "\n",
      "Matriz de confusión:\n",
      " [[6998  424]\n",
      " [ 781 1555]]\n"
     ]
    }
   ],
   "source": [
    "#####################\n",
    "# LightGBM baseline #\n",
    "#####################\n",
    "\n",
    "lgbm = LGBMClassifier(random_state=42, n_jobs=-1)\n",
    "\n",
    "lgbm.fit(X_train, y_train)\n",
    "y_pred_lgbm = lgbm.predict(X_val)\n",
    "y_prob_lgbm = lgbm.predict_proba(X_val)[:, 1]\n",
    "\n",
    "evaluar_modelo(\"LightGBM\", lgbm, X_val, y_val, y_pred_lgbm, y_prob_lgbm)\n"
   ]
  },
  {
   "cell_type": "code",
   "execution_count": 21,
   "id": "d3539377",
   "metadata": {},
   "outputs": [
    {
     "name": "stdout",
     "output_type": "stream",
     "text": [
      "\n",
      "RANDOM FOREST - ROC AUC: 0.9118\n",
      "\n",
      "LIGHTGBM - ROC AUC: 0.9343\n"
     ]
    }
   ],
   "source": [
    "modelos = {\n",
    "    \"Random Forest\": [y_val, y_pred_rf, y_prob_rf],\n",
    "    \"LightGBM\": [y_val, y_pred_lgbm, y_prob_lgbm],\n",
    "}\n",
    "\n",
    "for nombre, (yt, yp, yp_prob) in modelos.items():\n",
    "    print(f\"\\n{nombre.upper()} - ROC AUC: {roc_auc_score(yt, yp_prob):.4f}\")\n"
   ]
  }
 ],
 "metadata": {
  "kernelspec": {
   "display_name": "ml_env",
   "language": "python",
   "name": "python3"
  },
  "language_info": {
   "codemirror_mode": {
    "name": "ipython",
    "version": 3
   },
   "file_extension": ".py",
   "mimetype": "text/x-python",
   "name": "python",
   "nbconvert_exporter": "python",
   "pygments_lexer": "ipython3",
   "version": "3.12.7"
  }
 },
 "nbformat": 4,
 "nbformat_minor": 5
}
