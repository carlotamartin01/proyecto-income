{
 "cells": [
  {
   "cell_type": "code",
   "execution_count": 28,
   "id": "00ee088a",
   "metadata": {},
   "outputs": [],
   "source": [
    "import pandas as pd\n",
    "import numpy as np\n",
    "import warnings\n",
    "from sklearn.preprocessing import LabelEncoder\n",
    "from sklearn.model_selection import train_test_split\n",
    "\n",
    "warnings.filterwarnings('ignore')\n"
   ]
  },
  {
   "cell_type": "code",
   "execution_count": 22,
   "id": "141c8ffb",
   "metadata": {},
   "outputs": [
    {
     "name": "stdout",
     "output_type": "stream",
     "text": [
      "Shape inicial: (48842, 15)\n"
     ]
    }
   ],
   "source": [
    "#####################\n",
    "# Carga del dataset #\n",
    "#####################\n",
    "\n",
    "df = pd.read_csv(\"../data/income_data.csv\")\n",
    "print(\"Shape inicial:\", df.shape)\n"
   ]
  },
  {
   "cell_type": "code",
   "execution_count": 23,
   "id": "781c49d0",
   "metadata": {},
   "outputs": [
    {
     "name": "stdout",
     "output_type": "stream",
     "text": [
      "Duplicados detectados: 52\n",
      "Shape tras eliminar duplicados: (48790, 15)\n"
     ]
    }
   ],
   "source": [
    "#######################\n",
    "# Eliminar duplicados #\n",
    "#######################\n",
    "\n",
    "duplicados = df.duplicated().sum()\n",
    "print(f\"Duplicados detectados: {duplicados}\")\n",
    "\n",
    "# Se eliminan porque son exactos y no aportan información nueva\n",
    "df = df.drop_duplicates()\n",
    "print(\"Shape tras eliminar duplicados:\", df.shape)\n"
   ]
  },
  {
   "cell_type": "code",
   "execution_count": 24,
   "id": "550bcb26",
   "metadata": {},
   "outputs": [],
   "source": [
    "##############################\n",
    "# Renombramos occupation = ? #\n",
    "##############################\n",
    "\n",
    "# Son 2809 casos de occupation = ?\n",
    "# No la elimino porque es significativa pero la renombro\n",
    "df['occupation'] = df['occupation'].replace('?', 'Unknown')\n"
   ]
  },
  {
   "cell_type": "code",
   "execution_count": 25,
   "id": "b7d82340",
   "metadata": {},
   "outputs": [],
   "source": [
    "#####################\n",
    "# Elimino education #\n",
    "#####################\n",
    "\n",
    "# La elimino porque seria redundante ya que se encuentra tambien de forma numerica\n",
    "df = df.drop(columns=['education'])\n",
    "\n"
   ]
  },
  {
   "cell_type": "code",
   "execution_count": 26,
   "id": "a28bc267",
   "metadata": {},
   "outputs": [],
   "source": [
    "##################\n",
    "# Label encoding #\n",
    "##################\n",
    "\n",
    "# Gender (male, female) y para income que es la objetivo (<50k, >50k)\n",
    "\n",
    "df['gender'] = LabelEncoder().fit_transform(df['gender'])  \n",
    "df['income'] = LabelEncoder().fit_transform(df['income'])\n"
   ]
  },
  {
   "cell_type": "code",
   "execution_count": 27,
   "id": "23c16e2e",
   "metadata": {},
   "outputs": [],
   "source": [
    "####################\n",
    "# One-Hot encoding #\n",
    "####################\n",
    "\n",
    "# Para el resto de variables categóricas\n",
    "\n",
    "df = pd.get_dummies(df, columns=['workclass', 'marital-status', 'occupation','relationship', 'race', 'native-country'], drop_first=True)"
   ]
  },
  {
   "cell_type": "code",
   "execution_count": 32,
   "id": "aa4c96fb",
   "metadata": {},
   "outputs": [
    {
     "name": "stdout",
     "output_type": "stream",
     "text": [
      "Train shape: (29274, 85)\n",
      "Validacion shape: (9758, 85)\n",
      "Test shape: (9758, 85)\n"
     ]
    }
   ],
   "source": [
    "#############################\n",
    "# División Train, Val, Test #\n",
    "#############################\n",
    "\n",
    "X = df.drop(columns='income')\n",
    "y = df['income']\n",
    "\n",
    "# primera partición\n",
    "X_train, X_temp, y_train, y_temp = train_test_split(X, y, test_size=0.4, stratify=y, random_state=42)\n",
    "# segunda partición\n",
    "X_val, X_test, y_val, y_test = train_test_split(X_temp, y_temp, test_size=0.5, stratify=y_temp, random_state=42)\n",
    "\n",
    "print(\"Train shape:\", X_train.shape)\n",
    "print(\"Validacion shape:\", X_val.shape)\n",
    "print(\"Test shape:\", X_test.shape)\n"
   ]
  },
  {
   "cell_type": "code",
   "execution_count": null,
   "id": "d9c7c337",
   "metadata": {},
   "outputs": [],
   "source": [
    "############################\n",
    "# Guardar en carpeta nueva #\n",
    "############################\n",
    "\n",
    "import os\n",
    "os.makedirs(\"../data/processed\", exist_ok=True)\n",
    "\n",
    "X_train.to_csv(\"../data/processed/X_train.csv\", index=False)\n",
    "X_val.to_csv(\"../data/processed/X_val.csv\", index=False)\n",
    "X_test.to_csv(\"../data/processed/X_test.csv\", index=False)\n",
    "y_train.to_csv(\"../data/processed/y_train.csv\", index=False)\n",
    "y_val.to_csv(\"../data/processed/y_val.csv\", index=False)\n",
    "y_test.to_csv(\"../data/processed/y_test.csv\", index=False)\n"
   ]
  },
  {
   "cell_type": "markdown",
   "id": "de9704a3",
   "metadata": {},
   "source": [
    "He eliminado los duplicados que había (52 en total) y he dejado la categoría Unknown en occupation como está. También he quitado education porque ya tengo educational-num.\n",
    "\n",
    "He codificado todas las variables y he dividido el dataset en train, validación y test con proporciones 60/20/20 y estratificación. He guardado los ficheros en una subcarpeta para tenerlo todo más ordenado.\n"
   ]
  }
 ],
 "metadata": {
  "kernelspec": {
   "display_name": "ml_env",
   "language": "python",
   "name": "python3"
  },
  "language_info": {
   "codemirror_mode": {
    "name": "ipython",
    "version": 3
   },
   "file_extension": ".py",
   "mimetype": "text/x-python",
   "name": "python",
   "nbconvert_exporter": "python",
   "pygments_lexer": "ipython3",
   "version": "3.12.7"
  }
 },
 "nbformat": 4,
 "nbformat_minor": 5
}
